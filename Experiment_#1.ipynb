{
    "cells": [
        {
            "cell_type": "code",
            "execution_count": 1,
            "source": [
                "import pandas"
            ],
            "outputs": [],
            "metadata": {}
        },
        {
            "cell_type": "code",
            "execution_count": 4,
            "source": [
                "from Libraries.Functions import Get_Data_from_Server\n",
                "midwestEastNetGenJson = Get_Data_from_Server(\"ELEC.GEN.ALL-ENC-99.A\")\n",
                "midwestWestNetGenJson = Get_Data_from_Server(\"ELEC.GEN.ALL-WNC-99.A\")"
            ],
            "outputs": [],
            "metadata": {}
        },
        {
            "cell_type": "code",
            "execution_count": 5,
            "source": [
                "print(midwestEastNetGenJson)"
            ],
            "outputs": [
                {
                    "output_type": "stream",
                    "name": "stdout",
                    "text": [
                        "{'request': {'command': 'series', 'series_id': 'ELEC.GEN.ALL-ENC-99.A'}, 'series': [{'series_id': 'ELEC.GEN.ALL-ENC-99.A', 'name': 'Net generation : all fuels : East North Central (total) : all sectors : annual', 'units': 'thousand megawatthours', 'f': 'A', 'description': 'Summation of all fuels used for electricity generation; All sectors; Summation of the states in the East North Central census region including Illinois, Indiana, Michigan, Ohio and Wisconsin.; ', 'copyright': 'None', 'source': 'EIA, U.S. Energy Information Administration', 'geography': 'USA-IL+USA-IN+USA-MI+USA-OH+USA-WI', 'start': '2001', 'end': '2020', 'updated': '2022-01-26T12:38:51-0500', 'data': [['2020', 552533.50427], ['2019', 586452.34574], ['2018', 609421.57576], ['2017', 579496.58817], ['2016', 585058.66868], ['2015', 599232.94965], ['2014', 619897.46142], ['2013', 622073.17762], ['2012', 613915.80905], ['2011', 629675.79712], ['2010', 645996.38562], ['2009', 607786.52794], ['2008', 660867.0834], ['2007', 668754.79095], ['2006', 652547.40286], ['2005', 664912.47593], ['2004', 647006.28241], ['2003', 632051.09], ['2002', 637051.964], ['2001', 614689.806]]}]}\n"
                    ]
                }
            ],
            "metadata": {}
        },
        {
            "cell_type": "code",
            "execution_count": null,
            "source": [
                "print(midwestWestNetGenJson)"
            ],
            "outputs": [],
            "metadata": {}
        }
    ],
    "metadata": {
        "orig_nbformat": 4,
        "language_info": {
            "name": "python",
            "version": "3.8.3",
            "mimetype": "text/x-python",
            "codemirror_mode": {
                "name": "ipython",
                "version": 3
            },
            "pygments_lexer": "ipython3",
            "nbconvert_exporter": "python",
            "file_extension": ".py"
        },
        "kernelspec": {
            "name": "python3",
            "display_name": "Python 3.8.3 64-bit ('Renewable_Energy': venv)"
        },
        "interpreter": {
            "hash": "b5c7ddab27a7c61cb8dbb1dd53e4b48dd636ba4cc51390ce5b854121c154cb65"
        }
    },
    "nbformat": 4,
    "nbformat_minor": 2
}